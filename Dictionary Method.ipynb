{
 "cells": [
  {
   "cell_type": "code",
   "execution_count": 2,
   "metadata": {},
   "outputs": [
    {
     "name": "stdout",
     "output_type": "stream",
     "text": [
      "Dictionary:  {'Indonesia': 'Jakarta', 'Japan': 'Tokyo', 'Germany': 'Berlin', 'Netherland': 'Amsterdam'}\n",
      "{}\n"
     ]
    }
   ],
   "source": [
    "## dictionary.clear(no_parameter)\n",
    "    # menghapus semua yang ada di dictionary, termasuk key dan values nya.\n",
    "    \n",
    "cities = {'Indonesia':'Jakarta', 'Japan':'Tokyo', 'Germany':'Berlin', 'Netherland':'Amsterdam'}\n",
    "print(\"Dictionary: \", cities)\n",
    "\n",
    "cities.clear()\n",
    "print(cities)"
   ]
  },
  {
   "cell_type": "code",
   "execution_count": 4,
   "metadata": {},
   "outputs": [
    {
     "name": "stdout",
     "output_type": "stream",
     "text": [
      "{'Indonesia': 'Jakarta', 'Japan': 'Tokyo', 'Germany': 'Berlin', 'Netherland': 'Amsterdam'}\n"
     ]
    }
   ],
   "source": [
    "## dictionary.copy(no_parameter)\n",
    "    # menyalin dictionary menjadi dictionary baru. menggunakan copy() tidak akan mengubah dictionary parrent.\n",
    "    \n",
    "cities = {'Indonesia':'Jakarta', 'Japan':'Tokyo', 'Germany':'Berlin', 'Netherland':'Amsterdam'}\n",
    "city = cities.copy()\n",
    "\n",
    "print(city)\n"
   ]
  },
  {
   "cell_type": "code",
   "execution_count": 2,
   "metadata": {},
   "outputs": [
    {
     "name": "stdout",
     "output_type": "stream",
     "text": [
      "{'Jakarta': 'Asian', 'Kuala lumpur': 'Asian', 'Tokyo': 'Asian', 'Bangkok': 'Asian'}\n"
     ]
    }
   ],
   "source": [
    "## dict.fromkey(key, value)\n",
    "    # membuat dictionary dari sebuah iterable\n",
    "\n",
    "cities = 'Jakarta', 'Kuala lumpur', 'Tokyo', 'Bangkok'\n",
    "country = 'Asian'\n",
    "\n",
    "ibukota = dict.fromkeys(cities, country)\n",
    "    \n",
    "print(ibukota)\n"
   ]
  },
  {
   "cell_type": "code",
   "execution_count": 2,
   "metadata": {},
   "outputs": [
    {
     "name": "stdout",
     "output_type": "stream",
     "text": [
      "Tokyo\n",
      "h2ll4\n"
     ]
    }
   ],
   "source": [
    "## dictionary.get(key, value)\n",
    "    # menampilkan value dari suatu key tertentu\n",
    "    \n",
    "cities =  {'Indonesia':'Jakarta', 'Japan':'Tokyo', 'Germany':'Berlin', 'Netherland':'Amsterdam'}\n",
    "\n",
    "value = cities.get('Japan')\n",
    "print(value)\n",
    "\n",
    "## elemen value dari dictionary bisa dengan dengan indexing, tanpa function get. asalkan iterablenya adalah string\n",
    "vowel = {'a':'1', 'e':'2', \"i\":'3', \"o\":'4', \"u\":'5'}\n",
    "st = 'hello'\n",
    "a = st  # Inisialisasi a dengan st\n",
    "\n",
    "for i in st:\n",
    "    if i in vowel:\n",
    "        a = a.replace(i, vowel[i])\n",
    "\n",
    "print(a)"
   ]
  },
  {
   "cell_type": "code",
   "execution_count": 1,
   "metadata": {},
   "outputs": [
    {
     "name": "stdout",
     "output_type": "stream",
     "text": [
      "dict_items([('Indonesia', 'Jakarta'), ('Japan', 'Tokyo'), ('Germany', 'Berlin'), ('Netherland', 'Amsterdam')])\n"
     ]
    }
   ],
   "source": [
    "## dictionary.items(no_parameter)\n",
    "    # menampilan semua key-value dari dict yang untuk setiap key-value ditampilkan dalam bentuk tuple-tuple\n",
    "    \n",
    "cities =  {'Indonesia':'Jakarta', 'Japan':'Tokyo', 'Germany':'Berlin', 'Netherland':'Amsterdam'}\n",
    "view = cities.items()\n",
    "print(view)     ## tipe data akan tetap dictionary.\n",
    "\n"
   ]
  },
  {
   "cell_type": "code",
   "execution_count": 13,
   "metadata": {},
   "outputs": [
    {
     "name": "stdout",
     "output_type": "stream",
     "text": [
      "dict_keys(['Indonesia', 'Japan', 'Germany', 'Netherland']) <class 'dict_keys'>\n"
     ]
    }
   ],
   "source": [
    "## dictionary.keys(no_parameter)\n",
    "    # menampilkan semua key pada dictionary dalam bentuk list\n",
    "\n",
    "cities =  {'Indonesia':'Jakarta', 'Japan':'Tokyo', 'Germany':'Berlin', 'Netherland':'Amsterdam'}\n",
    "view = cities.keys()\n",
    "print(view, type(view))"
   ]
  },
  {
   "cell_type": "code",
   "execution_count": 18,
   "metadata": {},
   "outputs": [
    {
     "name": "stdout",
     "output_type": "stream",
     "text": [
      "{'Indonesia': 'Jakarta', 'Japan': 'Tokyo', 'Germany': 'Berlin', 'Netherland': 'Amsterdam'}\n"
     ]
    }
   ],
   "source": [
    "## dictionary.pop(key, default)\n",
    "    # menghapus pasangan key-value pada dictionary\n",
    "\n",
    "cities =  {'Indonesia':'Jakarta', 'Japan':'Tokyo', 'Germany':'Berlin', 'Netherland':'Amsterdam'}\n",
    "view = cities.pop('Korea')\n",
    "print(cities)    \n"
   ]
  },
  {
   "cell_type": "code",
   "execution_count": 21,
   "metadata": {},
   "outputs": [
    {
     "name": "stdout",
     "output_type": "stream",
     "text": [
      "{'Indonesia': 'Jakarta', 'Japan': 'Tokyo', 'Germany': 'Berlin'}\n"
     ]
    }
   ],
   "source": [
    "## dictionary.popitem(no_parameter)\n",
    "    # menghapus elemen terakhir pasangan key-value dictionary\n",
    "    \n",
    "cities =  {'Indonesia':'Jakarta', 'Japan':'Tokyo', 'Germany':'Berlin', 'Netherland':'Amsterdam'}\n",
    "cities.popitem()\n",
    "print(cities)"
   ]
  },
  {
   "cell_type": "code",
   "execution_count": 27,
   "metadata": {},
   "outputs": [
    {
     "name": "stdout",
     "output_type": "stream",
     "text": [
      "Seoul\n",
      "{'Indonesia': 'Jakarta', 'Japan': 'Tokyo', 'Germany': 'Berlin', 'Netherland': 'Amsterdam', 'Korean': 'Seoul'}\n",
      "Jakarta\n",
      "{'Indonesia': 'Jakarta', 'Japan': 'Tokyo', 'Germany': 'Berlin', 'Netherland': 'Amsterdam', 'Korean': 'Seoul'}\n"
     ]
    }
   ],
   "source": [
    "## dictionary.setdefault(key, default_value)\n",
    "    # mirip seperti get(), bedanya setdefault() Akan otomatis menginsert sebuah key baru apabila key yang dicari tidak tersedia pada dictionary\n",
    "\n",
    "cities =  {'Indonesia':'Jakarta', 'Japan':'Tokyo', 'Germany':'Berlin', 'Netherland':'Amsterdam'}\n",
    "value = cities.setdefault('Korean', 'Seoul')    # akan insert key baru, default_valuenya --> none\n",
    "values = cities.setdefault('Indonesia')\n",
    "print(value)\n",
    "print(cities)\n",
    "print(values)\n",
    "print(cities)\n",
    "\n"
   ]
  },
  {
   "cell_type": "code",
   "execution_count": 40,
   "metadata": {},
   "outputs": [
    {
     "name": "stdout",
     "output_type": "stream",
     "text": [
      "{'Indonesia': 'Jakarta', 'Japan': 'Tokyo', 'Korea': 'Seoul', 'Germany': 'Berlin'}\n",
      "{'Jabar': 'Bandung', 'Jateng': 'Semarang', 'Jatim': 'Surabaya'}\n"
     ]
    }
   ],
   "source": [
    "## dictionary.update(iterable)\n",
    "    # menambahkan key-value baru kedalam dictionary dan menempatkannya pada elemen terakhir\n",
    "\n",
    "cities =  {'Indonesia':'Jakarta', 'Japan':'Tokyo'}\n",
    "new_cities = {\"Korea\": 'Seoul', \"Germany\": 'Berlin'}\n",
    "\n",
    "city = {\"Jabar\":\"Bandung\", \"Jateng\":\"Semarang\"}\n",
    "\n",
    "view  = cities.update(new_cities)\n",
    "views = city.update({\"Jatim\":\"Surabaya\"})\n",
    "\n",
    "print(cities)\n",
    "print(city)"
   ]
  },
  {
   "cell_type": "code",
   "execution_count": 43,
   "metadata": {},
   "outputs": [
    {
     "name": "stdout",
     "output_type": "stream",
     "text": [
      "dict_values(['Jakarta', 'Tokyo', 'Berlin', 'Amsterdam']) <class 'dict_values'>\n"
     ]
    }
   ],
   "source": [
    "## dictionary.value(no_parameter)\n",
    "    # menampilkan seluruh value pada dictionary dalam bentuk list\n",
    "    \n",
    "cities =  {'Indonesia':'Jakarta', 'Japan':'Tokyo', 'Germany':'Berlin', 'Netherland':'Amsterdam'}\n",
    "city = cities.values()\n",
    "\n",
    "print(city, type(city))"
   ]
  }
 ],
 "metadata": {
  "kernelspec": {
   "display_name": "Python 3",
   "language": "python",
   "name": "python3"
  },
  "language_info": {
   "codemirror_mode": {
    "name": "ipython",
    "version": 3
   },
   "file_extension": ".py",
   "mimetype": "text/x-python",
   "name": "python",
   "nbconvert_exporter": "python",
   "pygments_lexer": "ipython3",
   "version": "3.12.1"
  }
 },
 "nbformat": 4,
 "nbformat_minor": 2
}
