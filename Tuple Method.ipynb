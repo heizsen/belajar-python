{
 "cells": [
  {
   "cell_type": "code",
   "execution_count": 3,
   "metadata": {},
   "outputs": [
    {
     "name": "stdout",
     "output_type": "stream",
     "text": [
      "2\n"
     ]
    }
   ],
   "source": [
    "## tuple.count(value)\n",
    "    # untuk menghitung jumlah elemen tertentu yang ada pada tuple\n",
    "\n",
    "tuples = ('a','d','e','c','o','p','o','n','n')\n",
    "a = tuples.count('n')\n",
    "\n",
    "print(a)"
   ]
  },
  {
   "cell_type": "code",
   "execution_count": 5,
   "metadata": {},
   "outputs": [
    {
     "name": "stdout",
     "output_type": "stream",
     "text": [
      "7\n",
      "9\n"
     ]
    }
   ],
   "source": [
    "## tuple.index(value)\n",
    "    # mengetahui index dari nilai yang dicari, jika ada dua elemen yang sama\n",
    "    # maka elemen paling pertama yang akan dihitung nilai indexnya\n",
    "    \n",
    "tuples = ('a','d','e','c','o','p','o','n','n')\n",
    "a = tuples.index('n')\n",
    "\n",
    "print(a)\n",
    "\n",
    "b = tuples.__len__()\n",
    "print(b)"
   ]
  }
 ],
 "metadata": {
  "kernelspec": {
   "display_name": "Python 3",
   "language": "python",
   "name": "python3"
  },
  "language_info": {
   "codemirror_mode": {
    "name": "ipython",
    "version": 3
   },
   "file_extension": ".py",
   "mimetype": "text/x-python",
   "name": "python",
   "nbconvert_exporter": "python",
   "pygments_lexer": "ipython3",
   "version": "3.12.1"
  }
 },
 "nbformat": 4,
 "nbformat_minor": 2
}
