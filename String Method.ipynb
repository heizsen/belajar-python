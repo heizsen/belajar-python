{
 "cells": [
  {
   "cell_type": "code",
   "execution_count": 2,
   "metadata": {},
   "outputs": [
    {
     "name": "stdout",
     "output_type": "stream",
     "text": [
      "Kalimat awal: hello world!\n",
      "Kalimat baru: Hello world!\n"
     ]
    }
   ],
   "source": [
    "## String.capitalize()\n",
    "## mengubah semua huruf pertama pada sebuah kata menjadi kapital\n",
    "\n",
    "a = 'hello world!' \n",
    "b = a.capitalize()   \n",
    "     \n",
    "print('Kalimat awal:', a)  \n",
    "print('Kalimat baru:', b)       #huruf pertama setiap kalimat menjadi kapital"
   ]
  },
  {
   "cell_type": "code",
   "execution_count": 5,
   "metadata": {},
   "outputs": [
    {
     "name": "stdout",
     "output_type": "stream",
     "text": [
      "hello word!\n"
     ]
    }
   ],
   "source": [
    "## string.casefold()\n",
    "## mengubah semua huruf menjadi huruf kecil\n",
    "\n",
    "a = 'HELLO WorD!'\n",
    "b = a.casefold()\n",
    "\n",
    "print(b)"
   ]
  },
  {
   "cell_type": "code",
   "execution_count": 11,
   "metadata": {},
   "outputs": [
    {
     "name": "stdout",
     "output_type": "stream",
     "text": [
      "=====hello word=====\n"
     ]
    }
   ],
   "source": [
    "## string.center(length, character)\n",
    "## untuk men-center kan sebuah kata.\n",
    "\n",
    "a = 'hello word'\n",
    "b = a.center(20, \"=\")\n",
    "\n",
    "print(b)"
   ]
  },
  {
   "cell_type": "code",
   "execution_count": 3,
   "metadata": {},
   "outputs": [
    {
     "name": "stdout",
     "output_type": "stream",
     "text": [
      "jumlah huruf 'l' ada: 2\n"
     ]
    }
   ],
   "source": [
    "## string.count(substring, start, end)\n",
    "## menghitung jumlah kata tertentu yang ada pada string\n",
    "    # substring --> huruf/kata/karacter  yang ingin dihitung jumlahnya\n",
    "    # start --> batas bawah index untuk percarian\n",
    "    # end --> batas atas index untuk pencarian\n",
    "\n",
    "a = 'hello word!'\n",
    "b = a.count('l',0,-1)\n",
    "\n",
    "print(f\"jumlah huruf 'l' ada: {b}\")\n"
   ]
  },
  {
   "cell_type": "code",
   "execution_count": 3,
   "metadata": {},
   "outputs": [
    {
     "name": "stdout",
     "output_type": "stream",
     "text": [
      "True\n",
      "False\n"
     ]
    }
   ],
   "source": [
    "## string.startwith(suffix, start, end)     --> jika tidak ada start dan end, maka keseluhan string di cek\n",
    "    # mengecek apakah string memiliki karakter pertama tertentu\n",
    "    # suffix --> karakter/elemen yang ingin di cek\n",
    "    # start batas bawah indexing\n",
    "    # end --> batas atas indexing\n",
    "    \n",
    "   \n",
    "kata = 'Hello World'\n",
    "print(kata.startswith('H',0,11))\n",
    "print(kata.startswith('Hello'))\n"
   ]
  },
  {
   "cell_type": "code",
   "execution_count": 4,
   "metadata": {},
   "outputs": [
    {
     "name": "stdout",
     "output_type": "stream",
     "text": [
      "True\n"
     ]
    }
   ],
   "source": [
    "## string.endswith(suffix, start, end)\n",
    "    # memastikan apakah suatu string memiliki ending suatu kata/karakter tertentu\n",
    "    # suffix --> kata/karakter yang ingin dicari\n",
    "    # start --> batas bawah indexing\n",
    "    # end --> batas atas indexing\n",
    "    \n",
    "kata = 'Hello World'\n",
    "print(kata.endswith('d',0,11))  # mengecek apakah dari index 0 hingga 12 diakhir dengan huruf \"d\"\n"
   ]
  },
  {
   "cell_type": "code",
   "execution_count": 6,
   "metadata": {},
   "outputs": [
    {
     "name": "stdout",
     "output_type": "stream",
     "text": [
      "adnan   rani\n",
      "adnan rani\n"
     ]
    }
   ],
   "source": [
    "## string.expandtabs(tabsize)\n",
    "    # tabsize --> banyak spasi yang diinginkan\n",
    "    # memberikan tabs pada string setelah \\t.\n",
    "    # default \\t adalah 8 spasi.\n",
    "\n",
    "kata = 'adnan\\trani'\n",
    "kata_2 = 'adnan\\trani'\n",
    "\n",
    "print(kata.expandtabs())\n",
    "print(kata_2.expandtabs(1))"
   ]
  },
  {
   "cell_type": "code",
   "execution_count": 13,
   "metadata": {},
   "outputs": [
    {
     "name": "stdout",
     "output_type": "stream",
     "text": [
      "huruf 'w' ada pada index: 6\n"
     ]
    }
   ],
   "source": [
    "## string.find(substr, start, end)\n",
    "    # mengetahui nomor index dari kemunculan pertama sebuah huruf, \n",
    "    # dimana spasi juga dihitung sebagai index, jika substring tidak ada maka akan return -1\n",
    "    \n",
    "    \n",
    "    # substr --> kata/elemen yang ingin dicari\n",
    "    # batas bawah indexing\n",
    "    # batas atas indexing\n",
    "\n",
    "\n",
    "a = 'hello word!'\n",
    "b = a.find('w', 0,-1)\n",
    "\n",
    "print(f\"huruf 'w' ada pada index: {b}\")\n"
   ]
  },
  {
   "cell_type": "code",
   "execution_count": 12,
   "metadata": {},
   "outputs": [
    {
     "name": "stdout",
     "output_type": "stream",
     "text": [
      "huruf 'l' ada pada index: 14\n",
      "kata 'hello' ada pada index: 11\n"
     ]
    }
   ],
   "source": [
    "## string.rfind(subs, start, end)\n",
    "    # mencari kemunculan terakhir dari sebuah elemen/kata tertentu, dan mengembalikan index nya.\n",
    "    # sama seperti find(), pada rfind() batas bawah indexing dimulai dari sebelah kanan.\n",
    "    # jika kata yang dicari ada lebih dari satu, maka kata paling akhir yang akan di return index nya\n",
    "    \n",
    "    # subs --> kata/elemen yang ingin dicari\n",
    "    # start --> batas bawah pencarian\n",
    "    # end --> batas atas pencarian\n",
    "    \n",
    "\n",
    "a = 'hello word hello'\n",
    "\n",
    "b = a.rfind('l', 0,-1)\n",
    "c = a.rfind('hello')\n",
    "\n",
    "print(f\"huruf 'l' ada pada index: {b}\")     # 14 --> diambil dari 'hello' terakhir dari kanan, dan index dimulai dari kanan\n",
    "print(f\"kata 'hello' ada pada index: {c}\")  # 11 --> karena setelah spasi ada kata 'hello'"
   ]
  },
  {
   "cell_type": "code",
   "execution_count": 10,
   "metadata": {},
   "outputs": [
    {
     "name": "stdout",
     "output_type": "stream",
     "text": [
      "huruf 'x' ada pada index: 9\n"
     ]
    }
   ],
   "source": [
    "## string.index(substr, start, end)\n",
    "## mengetahui nomor index dari sebuat huruf, dimana spasi juga dihitung sebagai index. jika substring tidak ada maka menampilkan error\n",
    "\n",
    "a = 'hello word!'\n",
    "b = a.index('d', 0,-1)\n",
    "\n",
    "print(f\"huruf 'x' ada pada index: {b}\")"
   ]
  },
  {
   "cell_type": "code",
   "execution_count": 34,
   "metadata": {},
   "outputs": [
    {
     "name": "stdout",
     "output_type": "stream",
     "text": [
      "9\n",
      "7\n"
     ]
    }
   ],
   "source": [
    "## string.rindex(substr, start, end)\n",
    "    # substr --> elemen string yang ingin dicari\n",
    "    # start --> batas bawah indexing, default = 0\n",
    "    # end --> batas atas indexing. default = sampai akhir string \n",
    "    \n",
    "    ## untuk mencari kemunculan terakhir sebuah elemen string, proses indexing dimulai dari kiri.\n",
    "    \n",
    "string = 'hello world'\n",
    "\n",
    "print(string.rindex('l'))\n",
    "print(string.rindex('o'))"
   ]
  },
  {
   "cell_type": "code",
   "execution_count": 21,
   "metadata": {},
   "outputs": [
    {
     "name": "stdout",
     "output_type": "stream",
     "text": [
      "world hello we! <class 'str'>\n"
     ]
    }
   ],
   "source": [
    "## string.join(iterable)\n",
    "## menggabungkan elemen iterable (list, set,tuple) menjadi sebuah string, wajib menggunakan separator\n",
    "\n",
    "\n",
    "a = \" \"     # separator spasi\n",
    "b = {\"hello\", \"world\", \"we!\"}    # set, akan merandom posisi akhir c\n",
    "\n",
    "c = a.join(b)\n",
    "print(c, type(c))\n"
   ]
  },
  {
   "cell_type": "code",
   "execution_count": 35,
   "metadata": {},
   "outputs": [
    {
     "name": "stdout",
     "output_type": "stream",
     "text": [
      "['Hello', 'World', 'iam first!'] ---> <class 'str'>\n",
      "['Jakarta', 'Tokyo', 'Berlin#London#Sydney'] --> <class 'list'>\n"
     ]
    }
   ],
   "source": [
    "## string.split(separator, maxsplit) \n",
    "    # separator = separator dari string\n",
    "    # maxsplit  = jumlah kata yang akan dipisahkan.\n",
    "    \n",
    "## memisahkan string menjadi sejumlah elemen dalam list berdasarkan pemisah tertentu. \n",
    "    # Secara default, pemisah yang digunakan adalah spasi.\n",
    "\n",
    "Kata = 'Hello World iam first!'\n",
    "lists = Kata.split(sep=\" \", maxsplit=2)\n",
    "print(lists,\"--->\", type(Kata))\n",
    "\n",
    "\n",
    "cities = 'Jakarta#Tokyo#Berlin#London#Sydney'\n",
    "city = cities.split(sep=\"#\", maxsplit=2)\n",
    "print(city, \"-->\", type(city)) "
   ]
  },
  {
   "cell_type": "code",
   "execution_count": 41,
   "metadata": {},
   "outputs": [
    {
     "name": "stdout",
     "output_type": "stream",
     "text": [
      "<class 'list'> <-- ['Hello World', 'iam', 'first!']\n",
      "<class 'list'> <-- ['Jakarta#Tokyo#Berlin', 'London', 'Sydney']\n"
     ]
    }
   ],
   "source": [
    "## string.rsplit(separator, maxsplit) \n",
    "    # separator = separator dari string\n",
    "    # maxsplit  = jumlah kata yang akan dipisahkan (rsplit dilakukan dari kanan/belakang, sedangkan split dari kiri)\n",
    "    \n",
    "## memisahkan string menjadi sejumlah elemen dalam list berdasarkan pemisah tertentu. \n",
    "    # Secara default, pemisah yang digunakan adalah spasi.\n",
    "    \n",
    "Kata = 'Hello World iam first!'\n",
    "lists = Kata.rsplit(sep=\" \", maxsplit=2)\n",
    "print(type(lists), \"<--\",lists)\n",
    "\n",
    "\n",
    "cities = 'Jakarta#Tokyo#Berlin#London#Sydney'\n",
    "city = cities.rsplit(sep=\"#\", maxsplit=2)\n",
    "print(type(city), \"<--\", city) "
   ]
  },
  {
   "cell_type": "code",
   "execution_count": 36,
   "metadata": {},
   "outputs": [
    {
     "name": "stdout",
     "output_type": "stream",
     "text": [
      "['adnan', 'sayang', 'rani']\n",
      "['adnan', 'sayang', 'rani']\n"
     ]
    }
   ],
   "source": [
    "## string.splitlines(keepends)\n",
    "    ## mengubah sebuah string menjadi list, dengan syarat setipa kata yang ingin dipisahkan menjadi elemen list harus\n",
    "    ## diakhir dengan karakter khusus, seperti /n /r\n",
    "    # keepends --> karakter khusus yang berfungsi untuk memisahkan setiap elemen string menjadi list\n",
    "    \n",
    "string = 'adnan\\nsayang\\nrani'\n",
    "string_2 = 'adnan\\rsayang\\rrani'\n",
    "\n",
    "lists = string.splitlines()\n",
    "lists_2 = string_2.splitlines()\n",
    "\n",
    "print(lists)\n",
    "print(lists_2)"
   ]
  },
  {
   "cell_type": "code",
   "execution_count": 2,
   "metadata": {},
   "outputs": [
    {
     "name": "stdout",
     "output_type": "stream",
     "text": [
      "Jakarta, Tokyo, Roma, Amsterdam, Paris, Roma, Tokyo\n"
     ]
    }
   ],
   "source": [
    "## string.replace(old,new,count) --> case sensitive\n",
    "## mengubah suatu kata pada string menjadi kata lain\n",
    "    # old --> kata yang akan diganti\n",
    "    # new --> pengganti dari old\n",
    "    # count --> jumlah kemunculan old\n",
    "    \n",
    "cities = 'Jakarta, Tokyo, Berlin, Amsterdam, Paris, Berlin, Tokyo'\n",
    "city = cities.replace('Berlin', 'Roma', 2)\n",
    "print(city)    "
   ]
  },
  {
   "cell_type": "code",
   "execution_count": 26,
   "metadata": {},
   "outputs": [
    {
     "name": "stdout",
     "output_type": "stream",
     "text": [
      "('Hello', ' ', 'iam python and this is world')\n",
      "('Hello iam ', 'python', ' and this is world')\n"
     ]
    }
   ],
   "source": [
    "## string.partition(separator)\n",
    "## mengubah string menjadi tuple kedalam 3 bagian. bagian pertama sebelum separator, bagian 2 adalah separator, \n",
    "    #   dan bagiam 3 adala setelah separator\n",
    "\n",
    "kata = 'Hello iam python and this is world'\n",
    "part_1 = kata.partition(\" \")            # spasi pertama diambil dari kiri\n",
    "part_2 =kata.partition(\"python\")\n",
    "\n",
    "\n",
    "print(part_1)\n",
    "print(part_2)\n"
   ]
  },
  {
   "cell_type": "code",
   "execution_count": 29,
   "metadata": {},
   "outputs": [
    {
     "name": "stdout",
     "output_type": "stream",
     "text": [
      "('Hello iam python and this is', ' ', 'world')\n",
      "('Hello iam ', 'python', ' and this is world')\n"
     ]
    }
   ],
   "source": [
    "## string.rpartition(separator)\n",
    "    # mengubah string menjadi tuple kedalam 3 bagian. bagian pertama setelah separator, bagian 2 adalah separator, \n",
    "    #  dan bagiam 3 adalah sebelum separator\n",
    "    ## bagian pertama dimulai dari kanan.\n",
    "\n",
    "kata = 'Hello iam python and this is world'\n",
    "part_1 = kata.rpartition(\" \")           # akan mengambil spasi pertama dari kanan\n",
    "part_2 =kata.rpartition(\"python\")\n",
    "\n",
    "\n",
    "print(part_1)\n",
    "print(part_2)"
   ]
  },
  {
   "cell_type": "code",
   "execution_count": 6,
   "metadata": {},
   "outputs": [
    {
     "name": "stdout",
     "output_type": "stream",
     "text": [
      "False\n",
      "True\n"
     ]
    }
   ],
   "source": [
    "# string.isdigit(no_parameter)\n",
    "    # mengecek apakah semua string adalah angka, jika semuanya angka maka TRUE\n",
    "    \n",
    "word = 'abcd'\n",
    "cek_word = word.isdigit()\n",
    "print(cek_word)\n",
    "\n",
    "number = '1234555'\n",
    "cek_number = number.isdigit()\n",
    "print(cek_number) \n",
    "\n",
    "\n",
    "\n"
   ]
  },
  {
   "cell_type": "code",
   "execution_count": 13,
   "metadata": {},
   "outputs": [
    {
     "name": "stdout",
     "output_type": "stream",
     "text": [
      "True\n",
      "False\n",
      "True\n",
      "True\n",
      "False\n"
     ]
    }
   ],
   "source": [
    "## string.isalnum(no_paramter)\n",
    "    # mengencek karakter alfanumerik (gabungan angka dan atau huruf)\n",
    "    \n",
    "    \n",
    "string = 'abc123'\n",
    "string_2 = '#$%'\n",
    "string_3 = '123'\n",
    "string_4 = 'abc'\n",
    "string_5 = 'abc!@#'\n",
    "\n",
    "print(string.isalnum())\n",
    "print(string_2.isalnum())\n",
    "print(string_3.isalnum())\n",
    "print(string_4.isalnum())\n",
    "print(string_5.isalnum())"
   ]
  },
  {
   "cell_type": "code",
   "execution_count": 15,
   "metadata": {},
   "outputs": [
    {
     "name": "stdout",
     "output_type": "stream",
     "text": [
      "True\n",
      "False\n",
      "False\n",
      "False\n",
      "False\n"
     ]
    }
   ],
   "source": [
    "## string.isaplha(no_parameter)\n",
    "    # mengecek apakah string berisi semua huruf alphabet, jika benar maka TRUE\n",
    "    # jika didalamnya juga terdapat alfabet dan angka atau symbol maka FALSE (spasi dianggap sebagai symbol)\n",
    "    \n",
    "string = 'adnanrani'\n",
    "string_2 = 'adnan rani'\n",
    "string_3 = 'adnan123'\n",
    "string_4 = '12345'\n",
    "string_5 = 'abc!@#'\n",
    "\n",
    "print(string.isalpha())\n",
    "print(string_2.isalpha())\n",
    "print(string_3.isalpha())\n",
    "print(string_4.isalpha())\n",
    "print(string_5.isalpha())"
   ]
  },
  {
   "cell_type": "code",
   "execution_count": null,
   "metadata": {},
   "outputs": [],
   "source": [
    "## string.isnumerin(no_parameter)\n",
    "    # jika didalam string semuanya angka, maka TRUE\n",
    "    # jika terdapat huruf atau simbol maka FALSE.\n",
    "\n",
    "string1 = \"12345\"\n",
    "string2 = \"123.45\"\n",
    "string3 = \"123abc\"\n",
    "\n",
    "print(string1.isnumeric())  \n",
    "print(string2.isnumeric())  \n",
    "print(string3.isnumeric())  "
   ]
  },
  {
   "cell_type": "code",
   "execution_count": 2,
   "metadata": {},
   "outputs": [
    {
     "name": "stdout",
     "output_type": "stream",
     "text": [
      "False\n",
      "True\n"
     ]
    }
   ],
   "source": [
    "## string.isdecimal(no_parameter)\n",
    "    # memeriksa apakah semua karakter dalam string tersebut adalah angka desimal (0-9).\n",
    "    # angka desimal yang dimaksud adalah angka yang digunakan untuk membentuk bilangan dengan basis 10. (bukan titik desimal)\n",
    "    # apabila semuanya adalah angka basis 10, maka TRUE.\n",
    "    \n",
    "angka_1 ='10.23'\n",
    "angka_2 = '1023'\n",
    "\n",
    "print(angka_1.isdecimal())\n",
    "print(angka_2.isdecimal())"
   ]
  },
  {
   "cell_type": "code",
   "execution_count": 5,
   "metadata": {},
   "outputs": [
    {
     "name": "stdout",
     "output_type": "stream",
     "text": [
      "True\n",
      "True\n",
      "False\n"
     ]
    }
   ],
   "source": [
    "## string.isascii(no_parameter)\n",
    "    # mengembalikan TRUE jika semua elemen nya adalah ASCII\n",
    "    # karakter ASCII adalah It is a character endcoding standard \n",
    "    # that uses numbers from 0 to 127 to represent English characters. \n",
    "    \n",
    "        ## ASCII code for the character A is 65, and 90 is for Z. Similarly, \n",
    "        ## ASCII code 97 is for a and 122 is for z\n",
    "\n",
    "\n",
    "char_1 = 'ABC'\n",
    "char_2 = '#$%'\n",
    "Char_3 = 'ß'\n",
    "\n",
    "print(char_1.isascii())\n",
    "print(char_2.isascii())\n",
    "print(Char_3.isascii())"
   ]
  },
  {
   "cell_type": "code",
   "execution_count": 7,
   "metadata": {},
   "outputs": [
    {
     "name": "stdout",
     "output_type": "stream",
     "text": [
      "True\n",
      "False\n",
      "True\n"
     ]
    }
   ],
   "source": [
    "## string.islower(no_parameter)\n",
    "    # mengecek apakah semua elemen string adalah huruf kecil, jika benar maka TRUE. hanya huruf yang dicek.\n",
    "    # jika ada satu saja yang kapital, maka FALSE.\n",
    "    # jika ada elemen selain huruf. misal angka/karakter. maka akan diabaikan.\n",
    "    \n",
    "string_1 = 'adnan rani'\n",
    "string_2 = 'Yang bener aja'\n",
    "string_3 = 'rugi dong 555 !'\n",
    "\n",
    "print(string_1.islower())\n",
    "print(string_2.islower())\n",
    "print(string_3.islower())\n",
    "    "
   ]
  },
  {
   "cell_type": "code",
   "execution_count": 10,
   "metadata": {},
   "outputs": [
    {
     "name": "stdout",
     "output_type": "stream",
     "text": [
      "True\n",
      "False\n",
      "False\n"
     ]
    }
   ],
   "source": [
    "## string.isupper(no_paramter)\n",
    "    # mengecek apakah semua elemen string adalah huruf kapital, TRUE jika benar.\n",
    "    # jika ada 1 saja huruf kecil, maka FALSE.\n",
    "    # jika tidak terdapat satupun huruf, maka FALSE.\n",
    "\n",
    "string_1 = 'ADNAN RANI'\n",
    "string_2 = 'Yang bener aja'\n",
    "string_3 = 'rugi dong 555 !'\n",
    "\n",
    "print(string_1.isupper())\n",
    "print(string_2.isupper())\n",
    "print(string_3.isupper())\n"
   ]
  },
  {
   "cell_type": "code",
   "execution_count": 18,
   "metadata": {},
   "outputs": [
    {
     "name": "stdout",
     "output_type": "stream",
     "text": [
      "False\n",
      "True\n"
     ]
    }
   ],
   "source": [
    "## string.isprintable(no_parameter)\n",
    "    # mengembalikan TRUE apabila string dapat di print()\n",
    "\n",
    "mystr = 'Hello World\\n'\n",
    "mystr_1 = 'Hello World'\n",
    "\n",
    "print(mystr.isprintable())\n",
    "print(mystr_1.isprintable())"
   ]
  },
  {
   "cell_type": "code",
   "execution_count": 21,
   "metadata": {},
   "outputs": [
    {
     "name": "stdout",
     "output_type": "stream",
     "text": [
      "False\n",
      "True\n",
      "True\n"
     ]
    }
   ],
   "source": [
    "## string.ispace(no_parameter)\n",
    "    # mengecek apakah semua elemen dalam string adalah spasi, TRUE jika semuanya spasi\n",
    "    # jika ada satu elemen bukan spasi maka FALSE\n",
    "    \n",
    "string_1 = ''       # tidak ada spasi\n",
    "string_2 = '\\n'     # termasuk spasi\n",
    "string_3 = '    '\n",
    "\n",
    "print(string_1.isspace())\n",
    "print(string_2.isspace())\n",
    "print(string_3.isspace())\n"
   ]
  },
  {
   "cell_type": "code",
   "execution_count": 22,
   "metadata": {},
   "outputs": [
    {
     "name": "stdout",
     "output_type": "stream",
     "text": [
      "True\n",
      "False\n",
      "False\n",
      "True\n",
      "False\n"
     ]
    }
   ],
   "source": [
    "## string.istitle(no_parameter)\n",
    "    # mengecek apakah setiap huruf pertama dari sebuah kata pada string \n",
    "    # adalah huruf kapital (setiap pergantian kata harus ada spasi), jika huruf pertama setiap kata kapital maka TRUE.\n",
    "\n",
    "kata_1 = 'Hello World'      # TRUE\n",
    "kata_2 = 'Hello python'     # FALSE\n",
    "kata_3 = 'hello python'     # FALSE\n",
    "kata_4 = '1 Adalah Satu'    # TRUE\n",
    "kata_5 = '2 adalah Dua'     # FALSE\n",
    "\n",
    "print(kata_1.istitle())\n",
    "print(kata_2.istitle())\n",
    "print(kata_3.istitle())\n",
    "print(kata_4.istitle())\n",
    "print(kata_5.istitle())"
   ]
  },
  {
   "cell_type": "code",
   "execution_count": 24,
   "metadata": {},
   "outputs": [
    {
     "name": "stdout",
     "output_type": "stream",
     "text": [
      "True\n",
      "True\n",
      "False\n",
      "True\n"
     ]
    }
   ],
   "source": [
    "## string.isidentifier(no_paramter)\n",
    "    # mengecek apakah string berisi identifier yang valid atau tidak.\n",
    "    # Sebuah string dianggap sebagai identifikasi yang valid jika:\n",
    "        ## Dimulai dengan huruf (a-z, A-Z) atau karakter garis bawah (_).\n",
    "        ## Dilanjutkan dengan huruf, angka (0-9), atau karakter garis bawah (_).\n",
    "\n",
    "string1 = \"variable123\"\n",
    "string2 = \"_11variable\"\n",
    "string3 = \"123variable\"\n",
    "string4 = \"if\"  # Kata kunci Python, bukan identifikasi valid\n",
    "\n",
    "print(string1.isidentifier())  # Output: True, identifikasi yang valid\n",
    "print(string2.isidentifier())  # Output: True, identifikasi yang valid\n",
    "print(string3.isidentifier())  # Output: False, tidak dimulai dengan huruf atau garis bawah\n",
    "print(string4.isidentifier())  # Output: True, kata kunci Python, identifikasi yang valid\n"
   ]
  },
  {
   "cell_type": "code",
   "execution_count": 14,
   "metadata": {},
   "outputs": [
    {
     "name": "stdout",
     "output_type": "stream",
     "text": [
      "hella pythan\n"
     ]
    }
   ],
   "source": [
    "## string.maketrans(x,y,z)\n",
    "    # untuk membuat tabel fungsi translate(). return value adalah karakter ASCII dari karakter yang mau diubah.\n",
    "    #  panjang karakter yang lama = panjang karakter baru\n",
    "    # maketrans('ab','xy') --> mengubah kata ab menjadi xy\n",
    "    # {97:120, 98:121} --> {\"a\":\"x\", \"b\" :\"y\"}\n",
    "\n",
    "## string.translate(table)\n",
    "    # membuat translasi dari table yang telah dibuat oleh maketrans()\n",
    "\n",
    "string = 'hello python'\n",
    "mt_1 = string.maketrans(\"o\", \"a\")      # akan mengubah 'o' menjadi 'a'\n",
    "\n",
    "\n",
    "translate = string.translate(mt_1)\n",
    "print(translate)\n"
   ]
  },
  {
   "cell_type": "code",
   "execution_count": 18,
   "metadata": {},
   "outputs": [
    {
     "name": "stdout",
     "output_type": "stream",
     "text": [
      "adnan rani\n",
      "adnan rani##\n",
      "##adnan rani\n"
     ]
    }
   ],
   "source": [
    "## string.strip(character)\n",
    "## string.lstrip(character)\n",
    "## string.rstrip(character)\n",
    "\n",
    "    # strip --> menghapus karakter tertentu pada awal dan akhir sebuah string\n",
    "    # lstrip --> menghapus karakter tertentu pada awal sebuah string (kiri)\n",
    "    # rstip --> menghapus karakter tertentu pada akhir sebuah string (kanan)\n",
    "\n",
    "string = '##adnan rani##'\n",
    "\n",
    "print(string.strip('#'))\n",
    "print(string.lstrip('#'))\n",
    "print(string.rstrip('#'))"
   ]
  },
  {
   "cell_type": "code",
   "execution_count": 22,
   "metadata": {},
   "outputs": [
    {
     "name": "stdout",
     "output_type": "stream",
     "text": [
      "adnan##\n",
      "**adnan\n"
     ]
    }
   ],
   "source": [
    "## string.ljust(width, fillchar)\n",
    "## string.rjust(width, fillchar)\n",
    "\n",
    "    ## ljust --> menambahkan karakter tertentu pada awal string (kiri)\n",
    "    # rjust --> menambahkan karakter tertentu pada akhir string (kanan)\n",
    "    \n",
    "    # width --> panjang total string, termasuk juga string asli\n",
    "    # fillchar --> karakter yang ingin ditambahkan\n",
    "\n",
    "string = 'adnan'\n",
    "\n",
    "print(string.ljust(7,'#'))\n",
    "print(string.rjust(7,'*'))\n"
   ]
  },
  {
   "cell_type": "code",
   "execution_count": 6,
   "metadata": {},
   "outputs": [
    {
     "name": "stdout",
     "output_type": "stream",
     "text": [
      "00adnan\n"
     ]
    }
   ],
   "source": [
    "## string.zfill(width)\n",
    "    # width --> panjang total karakter\n",
    "    \n",
    "    # Digunakan untuk menambahkan angka 0 pada sisi kiri string.\n",
    "    # jika jumlah karakter string > nilai parameter yang diberikan, maka 0 tidak ditambahkan\n",
    "    # jumlah 0 akan ditambah sebanyak paramete-len(string)\n",
    "\n",
    "string = 'adnan'\n",
    "print(string.zfill(7))"
   ]
  },
  {
   "cell_type": "code",
   "execution_count": 23,
   "metadata": {},
   "outputs": [
    {
     "name": "stdout",
     "output_type": "stream",
     "text": [
      "hello world\n",
      "HELLO WORLD\n"
     ]
    }
   ],
   "source": [
    "## string.lower(no_paramter)\n",
    "## string.upper(no_parameter)\n",
    "\n",
    "    # lower --> mengubah semua huruf pada string menjadi lowercase (huruf kecil)\n",
    "    # upper --> mengubah semua huruf pada string menjad uppercase (huruf besar)\n",
    "\n",
    "string = \"Hello World\"\n",
    "\n",
    "lower_string = string.lower()\n",
    "upper_string = string.upper()\n",
    "\n",
    "print(lower_string)\n",
    "print(upper_string) \n"
   ]
  },
  {
   "cell_type": "code",
   "execution_count": 25,
   "metadata": {},
   "outputs": [
    {
     "name": "stdout",
     "output_type": "stream",
     "text": [
      "HELLO\n",
      "hELLO\n"
     ]
    }
   ],
   "source": [
    "## string.swapcase(no_parameter)\n",
    "    # mengubah semua huruf uppercase/lowercase menjadi kebalikannya\n",
    "    # hello -> HELLO\n",
    "    \n",
    "string = 'hello'\n",
    "string_2 = 'Hello'\n",
    "\n",
    "print(string.swapcase())\n",
    "print(string_2.swapcase())"
   ]
  },
  {
   "cell_type": "code",
   "execution_count": 1,
   "metadata": {},
   "outputs": [
    {
     "name": "stdout",
     "output_type": "stream",
     "text": [
      "Hello World\n"
     ]
    }
   ],
   "source": [
    "## string.title(no_paramter)\n",
    "    # mengubah setiap awal kata pada huruf menjadi uppercase, setiap kata dipisahkan oleh spasi\n",
    "    \n",
    "string = 'hello WORLD'\n",
    "\n",
    "print(string.title())"
   ]
  }
 ],
 "metadata": {
  "kernelspec": {
   "display_name": "Python 3",
   "language": "python",
   "name": "python3"
  },
  "language_info": {
   "codemirror_mode": {
    "name": "ipython",
    "version": 3
   },
   "file_extension": ".py",
   "mimetype": "text/x-python",
   "name": "python",
   "nbconvert_exporter": "python",
   "pygments_lexer": "ipython3",
   "version": "3.12.1"
  }
 },
 "nbformat": 4,
 "nbformat_minor": 2
}
