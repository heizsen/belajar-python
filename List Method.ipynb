{
 "cells": [
  {
   "cell_type": "code",
   "execution_count": 5,
   "metadata": {},
   "outputs": [
    {
     "name": "stdout",
     "output_type": "stream",
     "text": [
      "[('Mumbai', 'London', 'Paris', 'New York')] --> <class 'list'>\n"
     ]
    }
   ],
   "source": [
    "## List.append(nama_list)\n",
    "## Menambahkan elemen baru kedalam list\n",
    "\n",
    "city = []\n",
    "cities = 'Mumbai', 'London', 'Paris', 'New York'\n",
    "\n",
    "city.append(cities)\n",
    "print(city, f\"--> {type(city)}\")"
   ]
  },
  {
   "cell_type": "code",
   "execution_count": 13,
   "metadata": {},
   "outputs": [
    {
     "name": "stdout",
     "output_type": "stream",
     "text": [
      "[]\n"
     ]
    }
   ],
   "source": [
    "## List.clear(no_parameter)\n",
    "## Menghapus semua elemen didalam list\n",
    "\n",
    "cities = ['Mumbai', 'London', 'Paris', 'New York']\n",
    "cities.clear()\n",
    "\n",
    "print(cities)\n"
   ]
  },
  {
   "cell_type": "code",
   "execution_count": 16,
   "metadata": {},
   "outputs": [
    {
     "name": "stdout",
     "output_type": "stream",
     "text": [
      "['Mumbai', 'London', 'Paris', 'New York'] --> 2372128166592\n",
      "['Mumbai', 'London', 'Paris', 'New York'] --> 2372128078912\n"
     ]
    }
   ],
   "source": [
    "## List.copy(no_parameter)\n",
    "## Menyalin/ menggandakan list menjadi list baru. list yang disalin akan memiliki lokasi memori yang berbeda dengan list asli\n",
    "\n",
    "cities = ['Mumbai', 'London', 'Paris', 'New York']\n",
    "city = cities.copy()\n",
    "\n",
    "print(cities, f\"--> {id(cities)}\")\n",
    "print(city, f\"--> {id(city)}\")"
   ]
  },
  {
   "cell_type": "code",
   "execution_count": 21,
   "metadata": {},
   "outputs": [
    {
     "name": "stdout",
     "output_type": "stream",
     "text": [
      "Jumlah \"Paris\" pada list: 2\n"
     ]
    }
   ],
   "source": [
    "## List.count(nama_item)\n",
    "## Menampilkan jumlah elemen yang sama didalam list\n",
    "\n",
    "cities = ['Mumbai', 'London', 'Paris', 'New York', 'Paris']\n",
    "city = cities.count('Paris')\n",
    "\n",
    "print(f'Jumlah \"Paris\" pada list: {city}')"
   ]
  },
  {
   "cell_type": "code",
   "execution_count": 23,
   "metadata": {},
   "outputs": [
    {
     "name": "stdout",
     "output_type": "stream",
     "text": [
      "['Mumbai', 'London', 'Paris', 'New York', 'Paris', 'Amsterdam', 'Paris', 'Tokyo']\n"
     ]
    }
   ],
   "source": [
    "## List.extend(iterable) --> iterable: list, tuple, set, dictionary, string\n",
    "## Menggabungkan item iterable kedalam list dan mengubah item iterable tersebut menjadi list.\n",
    "## extend --> semua item iterable diubah menjadi list\n",
    "## append --> item iterable tidak diubah menjadi list.\n",
    "\n",
    "cities = ['Mumbai', 'London', 'Paris', 'New York', 'Paris']     # List\n",
    "city = {'Paris', 'Tokyo', 'Amsterdam'}      # Tuple\n",
    "\n",
    "capital = cities.extend(city)\n",
    "print(cities)\n"
   ]
  },
  {
   "cell_type": "code",
   "execution_count": 26,
   "metadata": {},
   "outputs": [
    {
     "name": "stdout",
     "output_type": "stream",
     "text": [
      "Angka 60 ada di index ke: 5\n"
     ]
    }
   ],
   "source": [
    "## List.index(element, start, end) \n",
    "    # Element --> nilai elemen index yang akan dicari\n",
    "    # start --> batas bawah proses indexing\n",
    "    # end --> batas atas proses indexing\n",
    "\n",
    "## mengetahui suatu elemen list berada pada index keberapa\n",
    "\n",
    "\n",
    "numbers = [10,20,30,40,50,60,70,80,90,100]\n",
    "\n",
    "\n",
    "pos = numbers.index(60, 0, 9) \n",
    "print(f\"Angka 60 ada di index ke: {pos}\")"
   ]
  },
  {
   "cell_type": "code",
   "execution_count": 27,
   "metadata": {},
   "outputs": [
    {
     "name": "stdout",
     "output_type": "stream",
     "text": [
      "['Mumbai', {'Jakarta', 'Tokyo'}, 'London', 'New York']\n"
     ]
    }
   ],
   "source": [
    "## List.insert(index, value)\n",
    "## menambahkan elemen kedalam list tetapi pada posisi/ index tertentu\n",
    "    ## mirip seperti append(), sama-sama menambahkan elemen baru tanpa mengubah tipe data aslinya.\n",
    "    ## perbedaannya insert(), posisi menambahkan elemen pada index bisa diatur, sedangkan append() selalu di index terakhir\n",
    "    \n",
    "\n",
    "city = {'Tokyo','Jakarta'}                   # tipe data sets               # tipe data tuple\n",
    "cities = ['Mumbai', 'London', 'New York']      # tipe data list\n",
    "\n",
    "cities.insert(1, city)\n",
    "print(cities)"
   ]
  },
  {
   "cell_type": "code",
   "execution_count": 28,
   "metadata": {},
   "outputs": [
    {
     "name": "stdout",
     "output_type": "stream",
     "text": [
      "['Mumbai', 'New York', 'Jakarta', 'Tokyo', 'Berlin']\n"
     ]
    }
   ],
   "source": [
    "## List.pop(index)\n",
    "## menghapus elemen pada index tertentu\n",
    "\n",
    "cities = ['Mumbai', 'London', 'New York', 'Jakarta', 'Tokyo', 'Berlin']\n",
    "cities.pop(1)       # akan mengahpus london dari list\n",
    "\n",
    "print(cities) \n"
   ]
  },
  {
   "cell_type": "code",
   "execution_count": 29,
   "metadata": {},
   "outputs": [
    {
     "name": "stdout",
     "output_type": "stream",
     "text": [
      "['London', 'New York', 'Jakarta', 'Tokyo', 'Berlin']\n"
     ]
    }
   ],
   "source": [
    "## List.remove(element)\n",
    "## menghapus elemen pertama  tertentu pada list. jika ada lebih dari elemen dengan value yang sama, maka elemen paling pertama akan dihapus\n",
    "\n",
    "cities = ['Jakarta', 'London', 'New York', 'Jakarta', 'Tokyo', 'Berlin']\n",
    "cities.remove('Jakarta')\n",
    "\n",
    "print(cities)"
   ]
  },
  {
   "cell_type": "code",
   "execution_count": 30,
   "metadata": {},
   "outputs": [
    {
     "name": "stdout",
     "output_type": "stream",
     "text": [
      "['Berlin', 'Tokyo', 'Jakarta', 'New York', 'London', 'Jakarta']\n"
     ]
    }
   ],
   "source": [
    "## List.reverse()\n",
    "## akan memutar balikan list, index terakhir list akan diubah menjadi index pertama\n",
    "\n",
    "cities = ['Jakarta', 'London', 'New York', 'Jakarta', 'Tokyo', 'Berlin']\n",
    "cities.reverse()\n",
    "\n",
    "print(cities)"
   ]
  },
  {
   "cell_type": "code",
   "execution_count": 41,
   "metadata": {},
   "outputs": [
    {
     "name": "stdout",
     "output_type": "stream",
     "text": [
      "['Berlin', 'Jakarta', 'Jakarta', 'London', 'New York', 'Tokyo']\n"
     ]
    }
   ],
   "source": [
    "## List.sort(reverse=True|false, key=parameter)\n",
    "## mengurutkan data secara ascending/descending\n",
    "    # reverse = true --> desending\n",
    "    # reverse = false --> ascending\n",
    "    # key = parameter --> aturan lain untuk mengurutkan, misal berdasarkan banyaknya huruf\n",
    "\n",
    "cities = ['Jakarta', 'London', 'New York', 'Jakarta', 'Tokyo', 'Berlin']\n",
    "cities.sort()\n",
    "print(cities)"
   ]
  }
 ],
 "metadata": {
  "kernelspec": {
   "display_name": "Python 3",
   "language": "python",
   "name": "python3"
  },
  "language_info": {
   "codemirror_mode": {
    "name": "ipython",
    "version": 3
   },
   "file_extension": ".py",
   "mimetype": "text/x-python",
   "name": "python",
   "nbconvert_exporter": "python",
   "pygments_lexer": "ipython3",
   "version": "3.12.1"
  }
 },
 "nbformat": 4,
 "nbformat_minor": 2
}
