{
 "cells": [
  {
   "cell_type": "code",
   "execution_count": 2,
   "metadata": {},
   "outputs": [
    {
     "name": "stdout",
     "output_type": "stream",
     "text": [
      "100\n"
     ]
    }
   ],
   "source": [
    "## abs()\n",
    "    # mengubah angka menjad absolut (positif)\n",
    "    \n",
    "angka = -100\n",
    "positif = abs(angka)\n",
    "\n",
    "print(positif)"
   ]
  },
  {
   "cell_type": "code",
   "execution_count": 8,
   "metadata": {},
   "outputs": [
    {
     "name": "stdout",
     "output_type": "stream",
     "text": [
      "True\n",
      "False\n"
     ]
    }
   ],
   "source": [
    "## all(iterable)\n",
    "    # mengecek boolean dalam sebuah iterable (list, tuple, dictionary, string, set). jika semuanya TRUE (1) makan outputnya TRUE.\n",
    "    # Jika ada FALSE (0), maka mengembalikan false.\n",
    "    # Jika ada angka 0, akan dideteksi sebagai FALSE. outputnya FALSE\n",
    "    \n",
    "iterable_1 = [1,2,3,4,5]\n",
    "iterable_2 = 'saya', 1, 0\n",
    "\n",
    "check_1 = all(iterable_1)\n",
    "check_2 = all(iterable_2)\n",
    "\n",
    "\n",
    "print(check_1)\n",
    "print(check_2)\n"
   ]
  },
  {
   "cell_type": "code",
   "execution_count": 11,
   "metadata": {},
   "outputs": [
    {
     "name": "stdout",
     "output_type": "stream",
     "text": [
      "True\n",
      "False\n"
     ]
    }
   ],
   "source": [
    "## any(iterable)\n",
    "    # mengecek apakah dalam suatu iterable terdapat setidaknya satu elemen bernilai TRUE (1) atau tidak.\n",
    "    # Jika semua elemen FALSE(0) atau iterable kosong maka akan mengembalikan FALSE\n",
    "\n",
    "iterable_1 = {5,2,6,8,0,1,True}\n",
    "iterable_2 = False, False, 0\n",
    "\n",
    "check_1 = any(iterable_1)\n",
    "check_2 = any(iterable_2)\n",
    "\n",
    "print(check_1)\n",
    "print(check_2)\n"
   ]
  },
  {
   "cell_type": "code",
   "execution_count": 16,
   "metadata": {},
   "outputs": [
    {
     "name": "stdout",
     "output_type": "stream",
     "text": [
      "('\\xe9', '\\xf1', '\\xfc')\n"
     ]
    }
   ],
   "source": [
    "## ascii(object)\n",
    "    # mengubah karakter non-ascii kedalam ascii\n",
    "    \n",
    "karakter =  'é', 'ñ', 'ü'\n",
    "\n",
    "print(ascii(karakter))"
   ]
  },
  {
   "cell_type": "code",
   "execution_count": 19,
   "metadata": {},
   "outputs": [
    {
     "name": "stdout",
     "output_type": "stream",
     "text": [
      "0b10011100011001\n"
     ]
    }
   ],
   "source": [
    "## bin(integer)\n",
    "    # mengubah integer menjadi bilangan biner dengan prefix (0b)\n",
    "    \n",
    "angka = 10009\n",
    "\n",
    "print(bin(angka))"
   ]
  },
  {
   "cell_type": "code",
   "execution_count": 22,
   "metadata": {},
   "outputs": [
    {
     "name": "stdout",
     "output_type": "stream",
     "text": [
      "True\n",
      "True\n",
      "True\n",
      "False\n"
     ]
    }
   ],
   "source": [
    "## bool(value)\n",
    "    # mengubah suatu nilai menjadi boolean. selain angka nol, maka konversi akan TRUE meskipun terdapat 0 didalamnya\n",
    " \n",
    "a = [10,10,23,5,1]\n",
    "b = 'abc','xyz'\n",
    "c = (1,2,3,0)           # angka 0 tidak sendiri, sehingga TRUE\n",
    "d = []                  # nilai kosong akan menjadi false\n",
    "\n",
    "x = bool(a)\n",
    "y = bool(b)\n",
    "z = bool(c)\n",
    "w = bool(d)\n",
    "\n",
    "print(x)\n",
    "print(y)\n",
    "print(z)\n",
    "print(w)"
   ]
  },
  {
   "cell_type": "code",
   "execution_count": 30,
   "metadata": {},
   "outputs": [
    {
     "name": "stdout",
     "output_type": "stream",
     "text": [
      "bytearray(b'\\x00\\x00\\x00\\x00\\x00\\x00\\x00\\x00\\x00')\n",
      "bytearray(b'adnan rani')\n"
     ]
    }
   ],
   "source": [
    "## bytearray(source, encoding, errors) --> liat google for detail\n",
    "    # digunakan untuk membuat objek yang disebut bytearray.  \n",
    "    # yaitu tipe data khusus dalam Python yang memungkinkan Anda untuk menyimpan urutan byte.\n",
    "\n",
    "angka = 9\n",
    "huruf = 'adnan rani'\n",
    "print(bytearray(angka))\n",
    "print(bytearray(huruf, 'utf-8'))"
   ]
  },
  {
   "cell_type": "code",
   "execution_count": 33,
   "metadata": {},
   "outputs": [
    {
     "name": "stdout",
     "output_type": "stream",
     "text": [
      "b'\\x01\\x02\\x03\\x04\\x05'\n",
      "b'rani adnan'\n"
     ]
    }
   ],
   "source": [
    "## bytes(source, encoding, errors) --> check google for detail\n",
    "    # digunakan untuk membuat objek byte immutable (tidak dapat diubah) dari argumen yang diberikan. \n",
    "    # Ini bisa berupa string, iterable (seperti list), atau objek bytes. \n",
    "    # Objek bytes adalah tipe data yang digunakan untuk menyimpan urutan byte\n",
    "\n",
    "nums = [1, 2, 3, 4, 5]\n",
    "huruf = 'rani adnan'\n",
    "\n",
    "print(bytes(nums))\n",
    "print(bytes(huruf, 'utf-8'))"
   ]
  },
  {
   "cell_type": "code",
   "execution_count": 36,
   "metadata": {},
   "outputs": [
    {
     "name": "stdout",
     "output_type": "stream",
     "text": [
      "True\n",
      "True\n",
      "True\n",
      "True\n"
     ]
    }
   ],
   "source": [
    "## callable(object)\n",
    "    # untuk mengecek suatu objek dapat dipanggil atau tidak\n",
    "\n",
    "def my_function():\n",
    "    print(\"Hello, world!\")\n",
    "\n",
    "class MyClass:\n",
    "    def __call__(self):\n",
    "        print(\"Hello from MyClass!\")\n",
    "\n",
    "my_object = MyClass()\n",
    "\n",
    "def loop(*args):\n",
    "    for i in range(10):\n",
    "        print(i)\n",
    "\n",
    "print(callable(my_function))   # Output: True, karena my_function adalah fungsi yang dapat dipanggil\n",
    "print(callable(MyClass))       # Output: True, karena MyClass adalah kelas yang memiliki metode __call__()\n",
    "print(callable(my_object))     # Output: True, karena my_object adalah objek yang dapat dipanggil\n",
    "print(callable(loop))            # Output: False, karena integer tidak dapat dipanggil\n"
   ]
  },
  {
   "cell_type": "code",
   "execution_count": 42,
   "metadata": {},
   "outputs": [
    {
     "name": "stdout",
     "output_type": "stream",
     "text": [
      "\f\n"
     ]
    }
   ],
   "source": [
    "## chr(integer)\n",
    "    # mengembalikan karakter (string) yang sesuai dengan nilai bilangan Unicode yang diberikan.\n",
    "    \n",
    "print(chr(12))"
   ]
  },
  {
   "cell_type": "code",
   "execution_count": 43,
   "metadata": {},
   "outputs": [
    {
     "name": "stdout",
     "output_type": "stream",
     "text": [
      "The student's name is  John\n"
     ]
    }
   ],
   "source": [
    "# classmethod(function) --> OOP\n",
    "    # mengembalikan karakter (string) yang sesuai dengan nilai bilangan Unicode yang diberikan.\n",
    "\n",
    "class student:\n",
    "    name = 'John'\n",
    "    \n",
    "    def show_name(self):\n",
    "        print(\"The student's name is \",self.name)\n",
    "\n",
    "student.show_name = classmethod(student.show_name)\n",
    "student.show_name()"
   ]
  },
  {
   "cell_type": "code",
   "execution_count": 44,
   "metadata": {},
   "outputs": [
    {
     "name": "stdout",
     "output_type": "stream",
     "text": [
      "{}\n",
      "{'I': 'one', 'II': 'two', 'III': 'three'}\n"
     ]
    }
   ],
   "source": [
    "# dict() --> membuat dictionary\n",
    "\n",
    "emptydict = dict()\n",
    "print(emptydict)\n",
    "\n",
    "numdict = dict(I='one', II='two', III='three')\n",
    "print(numdict)"
   ]
  },
  {
   "cell_type": "code",
   "execution_count": null,
   "metadata": {},
   "outputs": [],
   "source": [
    "## dir(object)\n",
    "    # untuk mengembalikan daftar nama-nama dari atribut yang ada dalam suatu objek. \n",
    "    # Atribut-atribut ini dapat berupa nama-nama variabel, fungsi, metode, kelas, atau objek lain yang terkait dengan objek yang diberikan.\n",
    "\n",
    "class MyClass:\n",
    "    def __init__(self):\n",
    "        self.x = 10\n",
    "        self.y = 20\n",
    "\n",
    "    def my_method(self):\n",
    "        pass\n",
    "\n",
    "obj = MyClass()\n",
    "\n",
    "# Menampilkan daftar atribut dalam objek 'obj'\n",
    "print(dir(obj))\n"
   ]
  },
  {
   "cell_type": "code",
   "execution_count": 48,
   "metadata": {},
   "outputs": [
    {
     "name": "stdout",
     "output_type": "stream",
     "text": [
      "(5, 0)\n"
     ]
    }
   ],
   "source": [
    "# divmod(nuber1, number2)\n",
    "    # mengembalikan hasil pembagian beserta sisa pembagiannya (jika ada)\n",
    "\n",
    "a = 20\n",
    "b = 4\n",
    "\n",
    "c = divmod(a,b)\n",
    "print(c)            # hasil (5,0). 20/4=5 dengan sisa pembagian 0"
   ]
  },
  {
   "cell_type": "code",
   "execution_count": 1,
   "metadata": {},
   "outputs": [
    {
     "name": "stdout",
     "output_type": "stream",
     "text": [
      "Germany\n"
     ]
    }
   ],
   "source": [
    "## enumerate(iterable, start)\n",
    "    # digunakan untuk mengakses index dan value nya sekaligus dari sebuah iterable (list, string, dict, tuple, dll)\n",
    "    # iterable --> list, tuple, string, dict, set\n",
    "    # start --> index pertama akan dimulai. default 0.\n",
    "    \n",
    "cities = ['jakarta', 'tokyo', 'berlin', 'sydney','moskow']\n",
    "\n",
    "for i,j in enumerate(cities, 1):    # i untuk mengakses index, j untuk mengakses value\n",
    "    if j == 'berlin':\n",
    "        print('Germany')"
   ]
  },
  {
   "cell_type": "code",
   "execution_count": 9,
   "metadata": {},
   "outputs": [
    {
     "name": "stdout",
     "output_type": "stream",
     "text": [
      "[3, 9, 15, 21, 27, 33, 39, 45, 51, 57, 63, 69, 75, 81, 87, 93, 99]\n"
     ]
    }
   ],
   "source": [
    "## filter(function, iterable)\n",
    "    # untuk memfilter sebuah iterable berdasarkan kriteria tertentu.\n",
    "\n",
    "numbers = range(0,100, 3)\n",
    "\n",
    "def bil_ganjil(n):\n",
    "    return n % 2 != 0\n",
    "\n",
    "ganjil = filter(bil_ganjil, numbers)\n",
    "list_ganjil = list(ganjil)\n",
    "\n",
    "print(list_ganjil)  \n"
   ]
  },
  {
   "cell_type": "code",
   "execution_count": 11,
   "metadata": {},
   "outputs": [
    {
     "name": "stdout",
     "output_type": "stream",
     "text": [
      "hari ini hari Rabu, tanggal 10\n"
     ]
    }
   ],
   "source": [
    "# format()\n",
    "    # digunakan untuk melakukan f-string\n",
    "    \n",
    "kata = 'hari ini hari Rabu,'\n",
    "angka = 10\n",
    "\n",
    "print(kata,'tanggal {}'.format(angka))"
   ]
  },
  {
   "cell_type": "code",
   "execution_count": 15,
   "metadata": {},
   "outputs": [
    {
     "name": "stdout",
     "output_type": "stream",
     "text": [
      "frozenset({1, 2, 3, 4, 5}) <class 'set'>\n"
     ]
    }
   ],
   "source": [
    "## frozenset()\n",
    "    # membuat agar set tidak dapat diubah\n",
    "    \n",
    "set_ = {1,2,3,4,5}\n",
    "froz_set = frozenset(set_)\n",
    "\n",
    "print(froz_set, type(froz_set))"
   ]
  },
  {
   "cell_type": "code",
   "execution_count": 16,
   "metadata": {},
   "outputs": [
    {
     "name": "stdout",
     "output_type": "stream",
     "text": [
      "[1, 2, 123]\n"
     ]
    }
   ],
   "source": [
    "# isinstance(object, classinfo)\n",
    "    # digunakan untuk mengecek apakah objek memiliki tipe data tertentu, dan TRUE apabila tipe data yang diberikan benar.\n",
    "    \n",
    "l =[1,2,'aasf','1','123',123]\n",
    "a = []\n",
    "for i in l:\n",
    "    if isinstance(i, int) == True:\n",
    "        a.append(i)\n",
    "print(a)"
   ]
  },
  {
   "cell_type": "code",
   "execution_count": 2,
   "metadata": {},
   "outputs": [
    {
     "name": "stdout",
     "output_type": "stream",
     "text": [
      "[(1, 'a'), (2, 'b'), (3, 'c')]\n"
     ]
    }
   ],
   "source": [
    "# zip(iterable)\n",
    "    # menggabungkan banyak iterable menjadi satu. setiap tuple didalam zip dapat diiterasi dan setiap elemen dalam tuple \n",
    "    # juga bisa diiterasi\n",
    "list1 = 1, 2, 3\n",
    "list2 = 'a', 'b', 'c'\n",
    "list3 = ['v','','x']\n",
    "list4 = {'aa','bb','cc','dd'}\n",
    "list5 = (11,22,33,44)\n",
    "\n",
    "result = zip(list1, list2)\n",
    "\n",
    "print(list(result))  \n",
    "\n"
   ]
  },
  {
   "cell_type": "code",
   "execution_count": 2,
   "metadata": {},
   "outputs": [
    {
     "name": "stdout",
     "output_type": "stream",
     "text": [
      "98\n"
     ]
    }
   ],
   "source": [
    "## eval(expression)\n",
    "    # menjalankankan sebuah ekspresi pada string\n",
    "    # Ekspresi yang dimaksud adalah urutan karakter atau simbol yang mewakili\n",
    "    # operasi matematika, logika, atau penugasan dalam bahasa pemrograman.\n",
    "# mengembalikan nilai dari ekspresi yang diberikan\n",
    "    \n",
    "# Meminta pengguna untuk memasukkan ekspresi matematika\n",
    "\n",
    "\n",
    "def arithmetic(a, b, operator):\n",
    "    operate = {'add':'+', 'subtract':'-', 'multiply':'*', 'divide':'/'}\n",
    "    value = operate.get(operator)\n",
    "    \n",
    "    return eval('a{}b'.format(value))\n",
    "\n",
    "kata = arithmetic(100,2, 'subtract')\n",
    "print(kata)\n",
    "\n",
    "\n"
   ]
  },
  {
   "cell_type": "code",
   "execution_count": 4,
   "metadata": {},
   "outputs": [
    {
     "name": "stdout",
     "output_type": "stream",
     "text": [
      "The value of z is: 30\n"
     ]
    }
   ],
   "source": [
    "## exec(object)\n",
    "    # untuk menjalankan perintah/ekspresi tertentu dalam sebuah string\n",
    "    # tidak mengembalikan nilai dari hasil ekspresi\n",
    "    \n",
    "x = 10\n",
    "y = 20\n",
    "code_str = \"\"\"\n",
    "z = x + y\n",
    "print('The value of z is:', z)\n",
    "\"\"\"\n",
    "exec(code_str)"
   ]
  },
  {
   "cell_type": "code",
   "execution_count": null,
   "metadata": {},
   "outputs": [],
   "source": [
    "## help(object)\n",
    "    # untuk mengetahui pedoman manual dari sebuah objek atau fungsi\n",
    "    \n",
    "import pandas as pd\n",
    "\n",
    "a = help(pd)\n",
    "print(a)"
   ]
  },
  {
   "cell_type": "code",
   "execution_count": 8,
   "metadata": {},
   "outputs": [
    {
     "name": "stdout",
     "output_type": "stream",
     "text": [
      "[6, 5, 4, 3, 2, 1]\n"
     ]
    }
   ],
   "source": [
    "## reversed(sequence)\n",
    "    # membalikan iterator dari sebuah iterable dari belakang\n",
    "    # harus didefinisikan dulu jenis tipe datanya sebelum menggunakan reversed()\n",
    "    \n",
    "lists = [1,2,3,4,5,6]\n",
    "reverse = list(reversed(lists))\n",
    "\n",
    "print(reverse)"
   ]
  },
  {
   "cell_type": "code",
   "execution_count": 1,
   "metadata": {},
   "outputs": [
    {
     "name": "stdout",
     "output_type": "stream",
     "text": [
      "('b', 'c', 'd', 'e')\n",
      "['Tokyo', 'Berlin']\n"
     ]
    }
   ],
   "source": [
    "## slice(start, stop, step)\n",
    "    # untuk menghasilkan rentang elemen dari suatu iterable.\n",
    "    # mirip dengan range(), tetapi slice() dapat mengambil rentang dari sebuah iterable. \n",
    "    # sedangkan range() hanay membuat urutan angka saja tidak bisa sebuah iterable(list, str, tuple, set, dict)\n",
    "    \n",
    "alphabet = ('a','b','c','d','e','f','g','h')\n",
    "print(alphabet[slice(1,5)])\n",
    "\n",
    "\n",
    "cities = ['Jakarta', 'Tokyo', 'Berlin', 'Washington']\n",
    "y = slice(1,3)\n",
    "print(cities[y])"
   ]
  }
 ],
 "metadata": {
  "kernelspec": {
   "display_name": "Python 3",
   "language": "python",
   "name": "python3"
  },
  "language_info": {
   "codemirror_mode": {
    "name": "ipython",
    "version": 3
   },
   "file_extension": ".py",
   "mimetype": "text/x-python",
   "name": "python",
   "nbconvert_exporter": "python",
   "pygments_lexer": "ipython3",
   "version": "3.12.1"
  }
 },
 "nbformat": 4,
 "nbformat_minor": 2
}
