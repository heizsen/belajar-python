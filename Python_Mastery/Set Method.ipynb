{
 "cells": [
  {
   "cell_type": "code",
   "execution_count": 2,
   "metadata": {},
   "outputs": [
    {
     "name": "stdout",
     "output_type": "stream",
     "text": [
      "{'Javascript', 'Python', 'C', 'C++', 'Java'}\n",
      "{'Javascript', 'C#', 'Python', 'C', 'C++', 'Java'}\n"
     ]
    }
   ],
   "source": [
    "## add(element)\n",
    "    # menambahkan elemen baru kedalam set, jika elemen tersebut sudah ada  maka tidak akan dimasukan.\n",
    "    # posisi elemen baru pada set, random (karena undorder)\n",
    "\n",
    "language = {'Python', 'C++', 'Java', 'C'}\n",
    "\n",
    "language.add('Javascript')\n",
    "print(language) \n",
    "\n",
    "language.add('C#')\n",
    "print(language)    \n"
   ]
  },
  {
   "cell_type": "code",
   "execution_count": 5,
   "metadata": {},
   "outputs": [
    {
     "name": "stdout",
     "output_type": "stream",
     "text": [
      "set()\n"
     ]
    }
   ],
   "source": [
    "## clear(no_parameter)\n",
    "    # menghapus semua elemen pada set\n",
    "\n",
    "language = {'Python', 'C++', 'Java', 'C'}\n",
    "language.clear()\n",
    "\n",
    "print(language)"
   ]
  },
  {
   "cell_type": "code",
   "execution_count": 7,
   "metadata": {},
   "outputs": [
    {
     "name": "stdout",
     "output_type": "stream",
     "text": [
      "old:  {'Python', 'C++', 'C', 'Java'}\n",
      "new:  {'Python', 'C++', 'C', 'Java'}\n"
     ]
    }
   ],
   "source": [
    "## copy(no_parameter)\n",
    "    # menduplikasi set yang ada, perubahan pada set yang diduplikasi tidak akan memengaruhi set asli.\n",
    "    \n",
    "language = {'Python', 'C++', 'Java', 'C'}\n",
    "new_language = language.copy()\n",
    "\n",
    "print(\"old: \", language)\n",
    "print(\"new: \", new_language)"
   ]
  },
  {
   "cell_type": "code",
   "execution_count": 10,
   "metadata": {},
   "outputs": [
    {
     "name": "stdout",
     "output_type": "stream",
     "text": [
      "{'C++', 'C', 'Java'}\n"
     ]
    }
   ],
   "source": [
    "## pop(no_parameter)\n",
    "    # menghapus satu elemen secara random pada sebuah set\n",
    "    \n",
    "language = {'Python', 'C++', 'Java', 'C'}\n",
    "language.pop()\n",
    "\n",
    "print(language)\n",
    "    "
   ]
  },
  {
   "cell_type": "code",
   "execution_count": 14,
   "metadata": {},
   "outputs": [
    {
     "name": "stdout",
     "output_type": "stream",
     "text": [
      "{'Python', 'C', 'Java'}\n"
     ]
    },
    {
     "ename": "KeyError",
     "evalue": "'Ruby'",
     "output_type": "error",
     "traceback": [
      "\u001b[1;31m---------------------------------------------------------------------------\u001b[0m",
      "\u001b[1;31mKeyError\u001b[0m                                  Traceback (most recent call last)",
      "Cell \u001b[1;32mIn[14], line 10\u001b[0m\n\u001b[0;32m      6\u001b[0m language\u001b[38;5;241m.\u001b[39mremove(\u001b[38;5;124m'\u001b[39m\u001b[38;5;124mC++\u001b[39m\u001b[38;5;124m'\u001b[39m)\n\u001b[0;32m      8\u001b[0m \u001b[38;5;28mprint\u001b[39m(language)\n\u001b[1;32m---> 10\u001b[0m \u001b[43mlanguage\u001b[49m\u001b[38;5;241;43m.\u001b[39;49m\u001b[43mremove\u001b[49m\u001b[43m(\u001b[49m\u001b[38;5;124;43m'\u001b[39;49m\u001b[38;5;124;43mRuby\u001b[39;49m\u001b[38;5;124;43m'\u001b[39;49m\u001b[43m)\u001b[49m\n\u001b[0;32m     11\u001b[0m \u001b[38;5;28mprint\u001b[39m(language)\n",
      "\u001b[1;31mKeyError\u001b[0m: 'Ruby'"
     ]
    }
   ],
   "source": [
    "## remove(element)\n",
    "    # menghapus satu elemen tertentu didalam set.\n",
    "    # jika elemen yang dicari tidak ada, maka error\n",
    "    \n",
    "language = {'Python', 'C++', 'Java', 'C'}\n",
    "language.remove('C++')\n",
    "\n",
    "print(language)\n",
    "\n",
    "language.remove('Ruby')     # akan error, karena tidak ada Ruby didalam set.\n",
    "print(language)\n"
   ]
  },
  {
   "cell_type": "code",
   "execution_count": 13,
   "metadata": {},
   "outputs": [
    {
     "name": "stdout",
     "output_type": "stream",
     "text": [
      "{'Python', 'C++', 'C', 'Java'}\n"
     ]
    }
   ],
   "source": [
    "## discard(element)\n",
    "    # menghapus elemen tertentu pada set.\n",
    "    # jika elemen yang dihapus tidak ada, maka akan diabaikan dan mengembalikan set awal.\n",
    "    \n",
    "language = {'Python', 'C++', 'Java', 'C'}\n",
    "language.discard('Ruby')\n",
    "\n",
    "print(language)"
   ]
  },
  {
   "cell_type": "code",
   "execution_count": 2,
   "metadata": {},
   "outputs": [
    {
     "name": "stdout",
     "output_type": "stream",
     "text": [
      "Updated set:  {1, 2, 3, 4, 5, 6, 7}\n"
     ]
    }
   ],
   "source": [
    "## set.update(iterable)\n",
    "    # menggabungkan banyak set menjadi satu, jika ada banyak elemen yang sama pada set-set tersebut, maka tidak akan ada duplikasi\n",
    "\n",
    "a = { 1, 2, 3 }\n",
    "b = { 2, 4, 6 }\n",
    "c = { 5, 7 }\n",
    "\n",
    "a.update(b, c)\n",
    "\n",
    "print(\"Updated set: \", a)"
   ]
  },
  {
   "cell_type": "code",
   "execution_count": 3,
   "metadata": {},
   "outputs": [
    {
     "name": "stdout",
     "output_type": "stream",
     "text": [
      "{'world', 'python', 'is', 'hello', 'this'}\n"
     ]
    }
   ],
   "source": [
    "## set.union(other_set)\n",
    "    # menggabungkan 2 atau lebih set, dimana tidak mengizinkan duplikasi.\n",
    "\n",
    "set_1 = {'hello', 'world', 'python'}\n",
    "set_2 = {'hello', 'this', 'is', 'python'}\n",
    "\n",
    "sets = set_1.union(set_2)\n",
    "print(sets)"
   ]
  },
  {
   "cell_type": "code",
   "execution_count": 39,
   "metadata": {},
   "outputs": [
    {
     "name": "stdout",
     "output_type": "stream",
     "text": [
      "{'python', 'iam'}\n"
     ]
    }
   ],
   "source": [
    "## set.intersection(other_set)\n",
    "    # mencari irisan dari 2 atau lebih set\n",
    "    \n",
    "set_1 = {'this','is','python', 'iam', 'superior'}\n",
    "set_2 = {'iam', 'python', 'and', 'hello', 'world'}\n",
    "set_3 = {'hello', 'this', 'is', 'iam','python'}\n",
    "\n",
    "sets = set_2.intersection(set_1, set_3)\n",
    "print(sets)"
   ]
  },
  {
   "cell_type": "code",
   "execution_count": 48,
   "metadata": {},
   "outputs": [
    {
     "name": "stdout",
     "output_type": "stream",
     "text": [
      "set baru: {4, 5}\n",
      "set asli update: {4, 5}\n"
     ]
    }
   ],
   "source": [
    "## set.intersection_update(other_set)\n",
    "    # intersection() --> mencari irisan 2 set atau lebih. nilai irisan akan dikembalikan pada set sebuah variabel baru\n",
    "    # intersection_update() --> mencari irisan 2 set atau lebih. nilai irisan akan dikembalikan pada set asli.\n",
    "    \n",
    "set1 = {1, 2, 3, 4, 5}\n",
    "set2 = {4, 5, 6, 7, 8}\n",
    "\n",
    "\n",
    "set_baru = set1.intersection(set2)\n",
    "set1.intersection_update(set2)\n",
    "\n",
    "\n",
    "print(\"set baru:\", set_baru)\n",
    "print(\"set asli update:\", set1)  # Output: {4, 5}\n",
    "\n"
   ]
  },
  {
   "cell_type": "code",
   "execution_count": 40,
   "metadata": {},
   "outputs": [
    {
     "name": "stdout",
     "output_type": "stream",
     "text": [
      "{1, 2, 3}\n",
      "{10}\n"
     ]
    }
   ],
   "source": [
    "## set.difference(other_set)\n",
    "    # mencari elemen murni dari sebuah set.\n",
    "    # elemen murni = elemen yang hanya dimiliki set tersebut, dan tidak dimiliki set lain.\n",
    "    # perhatikan urutan set.difference() !!!\n",
    "\n",
    "set_1 ={0,1,2,3,4,5,6,7,8,9}\n",
    "set_2 = {5, 6,7,8,9,10}\n",
    "set_3 = {0,4,5,6,7}\n",
    "\n",
    "sets = set_1.difference(set_2, set_3)       # mencari elemen murni set_1. \n",
    "sets_2 = set_2 - set_1 - set_3              # mencari elemen murni set_2\n",
    "\n",
    "print(sets)\n",
    "print(sets_2)\n"
   ]
  },
  {
   "cell_type": "code",
   "execution_count": 41,
   "metadata": {},
   "outputs": [
    {
     "name": "stdout",
     "output_type": "stream",
     "text": [
      "{1, 2, 3}\n",
      "{1, 2, 3}\n"
     ]
    }
   ],
   "source": [
    "## set.difference_update(other_set)\n",
    "    # difference() --> mencari elemen murni dari sebuah set, kemudian menyimpannya ke variabel baru, set asli tidak akan berubah\n",
    "    # difference_update() --> mencari elemen murni dari sebuat set, tetapi langsung disimpan di variabel set asli. sehingga akan ada update\n",
    "    \n",
    "\n",
    "set1 = {1, 2, 3, 4, 5}\n",
    "set2 = {4, 5, 6, 7, 8}\n",
    "\n",
    "set_baru = set1.difference(set2)\n",
    "set1.difference_update(set2)\n",
    "\n",
    "print(set_baru)  \n",
    "print(set1)"
   ]
  },
  {
   "cell_type": "code",
   "execution_count": 14,
   "metadata": {},
   "outputs": [
    {
     "name": "stdout",
     "output_type": "stream",
     "text": [
      "{'superior', 'world', 'this', 'hello', 'and', 'is'}\n",
      "{'superior', 'world', 'this', 'hello', 'and', 'is'}\n"
     ]
    }
   ],
   "source": [
    "## set.symmertric_difference(other_set)\n",
    "    # mencari elemen murni dari dua set.\n",
    "    # dengan kata lain mencari union 2 set dengan menghilangkan irisannya.\n",
    "    # hanya bisa dua set,  jika ingin lebih maka harus harus berurutan\n",
    "    \n",
    "set_1 = {'this','is','python', 'iam', 'superior'}\n",
    "set_2 = {'iam', 'python', 'and', 'hello', 'world'}\n",
    "set_3 = {'hello', 'this', 'is', 'iam','python'}\n",
    "\n",
    "sets = set_1.symmetric_difference(set_2)\n",
    "sets_2 = set_1 ^ set_2 \n",
    "\n",
    "\n",
    "print(sets)\n",
    "print(sets_2)"
   ]
  },
  {
   "cell_type": "code",
   "execution_count": 49,
   "metadata": {},
   "outputs": [
    {
     "name": "stdout",
     "output_type": "stream",
     "text": [
      "variabel baru: {1, 2, 3, 6, 7, 8}\n",
      "update set asli: {1, 2, 3, 6, 7, 8}\n"
     ]
    }
   ],
   "source": [
    "## set.symmetric_difference_update(other_set)\n",
    "    # symmertric_difference() --> mencari elemen murni 2 set, mengabaikan irisannya. lalu untuk melihat hasilnya harus dibuat variabel baru\n",
    "    # symmertric_difference_update() --> mencari elemen murni 2 set, hasilnya akan dikembalikan pada set asli. sehingga set asli terupdate\n",
    "    \n",
    "    \n",
    "set1 = {1, 2, 3, 4, 5}\n",
    "set2 = {4, 5, 6, 7, 8}\n",
    "\n",
    "set_baru = set1.symmetric_difference(set2)\n",
    "set1.symmetric_difference_update(set2)\n",
    "\n",
    "print(\"variabel baru:\", set_baru)\n",
    "print(\"update set asli:\",set1)  \n"
   ]
  },
  {
   "cell_type": "code",
   "execution_count": 42,
   "metadata": {},
   "outputs": [
    {
     "name": "stdout",
     "output_type": "stream",
     "text": [
      "True\n",
      "False\n"
     ]
    }
   ],
   "source": [
    "## set.issubset(other_set)\n",
    "    # mengecek apakah suatu set adalah bagian dari himpunan set lain.\n",
    "    # jika semua elemen set ada pada himpunan set, maka TRUE.\n",
    "\n",
    "sets_1 = {1,3,5,7,9,11,13,15}                             # set bilangan ganjil\n",
    "sets_2 = {0,1,2,3,4}\n",
    "himpunan = {1,2,3,4,5,6,7,8,9,10,11,12,13,14,15}        # himpunan set 1-15\n",
    "\n",
    "subset = sets.issubset(himpunan)\n",
    "subset_2 = sets_2.issubset(himpunan)\n",
    "\n",
    "\n",
    "print(subset)\n",
    "print(subset_2)"
   ]
  },
  {
   "cell_type": "code",
   "execution_count": 44,
   "metadata": {},
   "outputs": [
    {
     "name": "stdout",
     "output_type": "stream",
     "text": [
      "False\n",
      "True\n"
     ]
    }
   ],
   "source": [
    "## set.superset(other_set)\n",
    "    # mengecek apakah sebuah set adalah superset dari set lainnya.\n",
    "    # A superset B --> berarti A memiliki semua elemen dari B.\n",
    "    # B subset A --> berarti B bagian dari A\n",
    "\n",
    "sets_1 = {1,3,5,7,9,11,13,15}                             # set bilangan ganjil\n",
    "sets_2 = {0,1,2,3,4}\n",
    "himpunan = {1,2,3,4,5,6,7,8,9,10,11,12,13,14,15} \n",
    "\n",
    "super_set = himpunan.issuperset(set_1)      # false, karena A tidak memiliki semua elemen sets_2 (0 tidak ada di himpunan)\n",
    "super_set_2 = himpunan.issuperset(set_2)    # trua, karena A memiliki semua elemen sets_1\n",
    "\n",
    "print(super_set)\n",
    "print(super_set_2)"
   ]
  },
  {
   "cell_type": "code",
   "execution_count": 28,
   "metadata": {},
   "outputs": [
    {
     "name": "stdout",
     "output_type": "stream",
     "text": [
      "True\n"
     ]
    }
   ],
   "source": [
    "## set.isdisjoint(other_set)\n",
    "    # mengecek apakah dua set termasuk disjoint\n",
    "    # dikatakan disjoint saat tidak ada irisan diantaranya.\n",
    "    \n",
    "    # hanya bisa membandingkan 2 set, jika lebih maka harus berurutan\n",
    "    \n",
    "set_1 = {10,20,30,40,50,60,70,80,90}\n",
    "set_2 = {100,200,300,400,500,600,700,800,900,1000}\n",
    "set_3 = {1,2,3,4,5,6,7,8,9,10}\n",
    "\n",
    "sets = set_1.isdisjoint(set_2)      # tidak ada irisan diantara set_1 dan set_2\n",
    "\n",
    "print(sets)\n"
   ]
  }
 ],
 "metadata": {
  "kernelspec": {
   "display_name": "Python 3",
   "language": "python",
   "name": "python3"
  },
  "language_info": {
   "codemirror_mode": {
    "name": "ipython",
    "version": 3
   },
   "file_extension": ".py",
   "mimetype": "text/x-python",
   "name": "python",
   "nbconvert_exporter": "python",
   "pygments_lexer": "ipython3",
   "version": "3.12.1"
  }
 },
 "nbformat": 4,
 "nbformat_minor": 2
}
